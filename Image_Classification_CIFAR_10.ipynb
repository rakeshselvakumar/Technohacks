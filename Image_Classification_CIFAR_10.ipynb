{
  "cells": [
    {
      "cell_type": "markdown",
      "metadata": {
        "id": "_tSLZcS4Hw6R"
      },
      "source": [
        "# Image Classification using CNN for CIFAR-10 Data"
      ]
    },
    {
      "cell_type": "markdown",
      "metadata": {
        "id": "awtwfmrSIMoQ"
      },
      "source": [
        "Steps\n",
        "Part-I. Baseline Model"
      ]
    },
    {
      "cell_type": "code",
      "execution_count": null,
      "metadata": {
        "id": "DQ0bPUGLHXJr"
      },
      "outputs": [],
      "source": [
        "# 1. Import Baseline Model\n",
        "import tensorflow as tf\n",
        "from __future__ import print_function\n",
        "import keras\n",
        "from keras import datasets, layers, models\n",
        "from keras.datasets import cifar10\n",
        "from keras.preprocessing.image import ImageDataGenerator\n",
        "from keras.models import Sequential\n",
        "from keras.layers import Dense, Dropout, Activation, Flatten\n",
        "from keras.layers import Conv2D, MaxPooling2D\n",
        "from keras.optimizers import Adam\n",
        "import numpy as np\n",
        "import matplotlib.pyplot as plt\n",
        "%matplotlib inline"
      ]
    },
    {
      "cell_type": "code",
      "execution_count": null,
      "metadata": {
        "id": "G70RI1UmJOwM"
      },
      "outputs": [],
      "source": [
        "# 2. Load the data and print the shape of training and test samples"
      ]
    },
    {
      "cell_type": "code",
      "execution_count": null,
      "metadata": {
        "colab": {
          "base_uri": "https://localhost:8080/"
        },
        "id": "S7KyG_fPJe3w",
        "outputId": "ca740f60-190a-427c-8058-6ad2b7f3578b"
      },
      "outputs": [
        {
          "output_type": "stream",
          "name": "stdout",
          "text": [
            "x_train shape: (50000, 32, 32, 3)\n",
            "50000 train samples\n",
            "10000 test samples\n"
          ]
        }
      ],
      "source": [
        "(x_train, y_train), (x_test, y_test) = cifar10.load_data()\n",
        "print('x_train shape:', x_train.shape)\n",
        "print(x_train.shape[0], 'train samples')\n",
        "print(x_test.shape[0], 'test samples')"
      ]
    },
    {
      "cell_type": "code",
      "execution_count": null,
      "metadata": {
        "id": "-qk57Id-J_DI"
      },
      "outputs": [],
      "source": [
        "# 3. Print the shape of one image"
      ]
    },
    {
      "cell_type": "code",
      "execution_count": null,
      "metadata": {
        "colab": {
          "base_uri": "https://localhost:8080/"
        },
        "id": "vh0d7lO6KNsu",
        "outputId": "a1d31039-0f02-4db5-a799-8e31853b3d68"
      },
      "outputs": [
        {
          "output_type": "execute_result",
          "data": {
            "text/plain": [
              "(32, 32, 3)"
            ]
          },
          "metadata": {},
          "execution_count": 25
        }
      ],
      "source": [
        "x_train[444].shape"
      ]
    },
    {
      "cell_type": "code",
      "execution_count": null,
      "metadata": {
        "id": "ufRwSaqjKQym"
      },
      "outputs": [],
      "source": [
        "# 4. Display one image using imshow() function"
      ]
    },
    {
      "cell_type": "code",
      "execution_count": null,
      "metadata": {
        "colab": {
          "base_uri": "https://localhost:8080/",
          "height": 447
        },
        "id": "gAonr4L7KYT1",
        "outputId": "678e14e5-00fd-4f4a-e904-2f634151e0ec"
      },
      "outputs": [
        {
          "output_type": "execute_result",
          "data": {
            "text/plain": [
              "<matplotlib.image.AxesImage at 0x7e39907f3340>"
            ]
          },
          "metadata": {},
          "execution_count": 26
        },
        {
          "output_type": "display_data",
          "data": {
            "text/plain": [
              "<Figure size 640x480 with 1 Axes>"
            ],
            "image/png": "[encoded data removed]"
          },
          "metadata": {}
        }
      ],
      "source": [
        "#print(y_train[444])\n",
        "plt.imshow(x_train[444])"
      ]
    },
    {
      "cell_type": "code",
      "execution_count": null,
      "metadata": {
        "id": "F5Penh2WKfRV"
      },
      "outputs": [],
      "source": [
        "# 5. convert y_train and y_test into categorical values"
      ]
    },
    {
      "cell_type": "code",
      "execution_count": null,
      "metadata": {
        "id": "qUarB_stKskG"
      },
      "outputs": [],
      "source": [
        "num_classes = 10\n",
        "y_train = keras.utils.to_categorical(y_train, num_classes)\n",
        "y_test = keras.utils.to_categorical(y_test, num_classes)"
      ]
    },
    {
      "cell_type": "code",
      "execution_count": null,
      "metadata": {
        "colab": {
          "base_uri": "https://localhost:8080/"
        },
        "id": "u8WIVMIBK_0O",
        "outputId": "3a68e9de-8850-4e37-c29e-5486c19efce8"
      },
      "outputs": [
        {
          "output_type": "execute_result",
          "data": {
            "text/plain": [
              "array([0., 0., 0., 0., 0., 0., 0., 0., 0., 1.], dtype=float32)"
            ]
          },
          "metadata": {},
          "execution_count": 28
        }
      ],
      "source": [
        "y_train[444]"
      ]
    },
    {
      "cell_type": "code",
      "execution_count": null,
      "metadata": {
        "id": "SdewEu1-LG_V"
      },
      "outputs": [],
      "source": [
        "# 6. Convert train data into float and scale\n",
        "x_train = x_train.astype('float32')\n",
        "x_test = x_test.astype('float32')\n",
        "x_train /= 255.0\n",
        "x_test /= 255.0"
      ]
    },
    {
      "cell_type": "code",
      "execution_count": null,
      "metadata": {
        "id": "RUTJpteSLMb9"
      },
      "outputs": [],
      "source": [
        "# 7. Build your first CNN"
      ]
    },
    {
      "cell_type": "code",
      "execution_count": null,
      "metadata": {
        "id": "n1ZzxfGRP3rc"
      },
      "outputs": [],
      "source": [
        "model1 = Sequential()\n",
        "model1.add(Conv2D(32, (5, 5), strides=(2, 2), activation='relu', padding='same', input_shape=(32, 32, 3)))\n",
        "model1.add(Conv2D(32, (5, 5), strides=(2, 2), activation='relu', padding='same'))\n",
        "model1.add(Dropout(0.25))\n",
        "model1.add(Flatten())\n",
        "model1.add(Dense(512, activation='relu'))\n",
        "model1.add(Dropout(0.5))\n",
        "model1.add(Dense(10, activation='softmax'))\n",
        "model1.compile(optimizer=Adam(learning_rate=0.001), loss='categorical_crossentropy', metrics=['accuracy'])"
      ]
    },
    {
      "cell_type": "code",
      "source": [
        "model1.summary()"
      ],
      "metadata": {
        "colab": {
          "base_uri": "https://localhost:8080/"
        },
        "id": "grkangXZ-5ZH",
        "outputId": "66f78bb6-f97b-4422-cf9a-3cb916bf58dd"
      },
      "execution_count": null,
      "outputs": [
        {
          "output_type": "stream",
          "name": "stdout",
          "text": [
            "Model: \"sequential_1\"\n",
            "_________________________________________________________________\n",
            " Layer (type)                Output Shape              Param #   \n",
            "=================================================================\n",
            " conv2d_3 (Conv2D)           (None, 16, 16, 32)        2432      \n",
            "                                                                 \n",
            " conv2d_4 (Conv2D)           (None, 8, 8, 32)          25632     \n",
            "                                                                 \n",
            " dropout (Dropout)           (None, 8, 8, 32)          0         \n",
            "                                                                 \n",
            " flatten_1 (Flatten)         (None, 2048)              0         \n",
            "                                                                 \n",
            " dense_2 (Dense)             (None, 512)               1049088   \n",
            "                                                                 \n",
            " dropout_1 (Dropout)         (None, 512)               0         \n",
            "                                                                 \n",
            " dense_3 (Dense)             (None, 10)                5130      \n",
            "                                                                 \n",
            "=================================================================\n",
            "Total params: 1,082,282\n",
            "Trainable params: 1,082,282\n",
            "Non-trainable params: 0\n",
            "_________________________________________________________________\n"
          ]
        }
      ]
    },
    {
      "cell_type": "code",
      "source": [
        "history1 = model1.fit(x_train, y_train, epochs=10, validation_data=(x_test, y_test))"
      ],
      "metadata": {
        "colab": {
          "base_uri": "https://localhost:8080/"
        },
        "id": "pMq7YUoF_GJO",
        "outputId": "4cddcfa2-4300-4cbd-a3d8-f1bdd9024f85"
      },
      "execution_count": null,
      "outputs": [
        {
          "output_type": "stream",
          "name": "stdout",
          "text": [
            "Epoch 1/10\n",
            "1563/1563 [==============================] - 9s 6ms/step - loss: 1.6042 - accuracy: 0.4164 - val_loss: 1.3378 - val_accuracy: 0.5274\n",
            "Epoch 2/10\n",
            "1563/1563 [==============================] - 8s 5ms/step - loss: 1.3049 - accuracy: 0.5317 - val_loss: 1.2325 - val_accuracy: 0.5626\n",
            "Epoch 3/10\n",
            "1563/1563 [==============================] - 9s 6ms/step - loss: 1.1746 - accuracy: 0.5797 - val_loss: 1.1004 - val_accuracy: 0.6079\n",
            "Epoch 4/10\n",
            "1563/1563 [==============================] - 8s 5ms/step - loss: 1.0821 - accuracy: 0.6160 - val_loss: 1.0495 - val_accuracy: 0.6293\n",
            "Epoch 5/10\n",
            "1563/1563 [==============================] - 8s 5ms/step - loss: 1.0139 - accuracy: 0.6405 - val_loss: 0.9987 - val_accuracy: 0.6498\n",
            "Epoch 6/10\n",
            "1563/1563 [==============================] - 9s 6ms/step - loss: 0.9516 - accuracy: 0.6611 - val_loss: 0.9707 - val_accuracy: 0.6606\n",
            "Epoch 7/10\n",
            "1563/1563 [==============================] - 8s 5ms/step - loss: 0.8993 - accuracy: 0.6800 - val_loss: 0.9725 - val_accuracy: 0.6598\n",
            "Epoch 8/10\n",
            "1563/1563 [==============================] - 8s 5ms/step - loss: 0.8442 - accuracy: 0.7033 - val_loss: 0.9681 - val_accuracy: 0.6586\n",
            "Epoch 9/10\n",
            "1563/1563 [==============================] - 9s 6ms/step - loss: 0.8037 - accuracy: 0.7140 - val_loss: 0.9537 - val_accuracy: 0.6691\n",
            "Epoch 10/10\n",
            "1563/1563 [==============================] - 8s 5ms/step - loss: 0.7736 - accuracy: 0.7246 - val_loss: 0.9207 - val_accuracy: 0.6796\n"
          ]
        }
      ]
    },
    {
      "cell_type": "code",
      "source": [
        "callback = tf.keras.callbacks.EarlyStopping(monitor='loss', patience=3)"
      ],
      "metadata": {
        "id": "6IPuBiG5_w59"
      },
      "execution_count": null,
      "outputs": []
    },
    {
      "cell_type": "code",
      "source": [
        "model2 = models.Sequential()\n",
        "\n",
        "model2.add(Conv2D(64, (5,5), padding='same', activation='relu', input_shape=(32,32,3)))\n",
        "model2.add(Conv2D(128, (3,3), padding='same', activation='relu'))\n",
        "model2.add(MaxPooling2D(pool_size=(2,2),strides=(2,2)))\n",
        "\n",
        "model2.add(Dropout(0.25))\n",
        "\n",
        "model2.add(Flatten())\n",
        "\n",
        "model2.add(Dense(128, activation='relu'))\n",
        "model2.add(Dropout(0.25))\n",
        "\n",
        "model2.add(Dense(10, activation='softmax'))\n"
      ],
      "metadata": {
        "id": "e8Wkkt3b958C"
      },
      "execution_count": null,
      "outputs": []
    },
    {
      "cell_type": "code",
      "source": [
        "model2.compile(optimizer=Adam(learning_rate=0.001), loss='categorical_crossentropy', metrics=['accuracy'])"
      ],
      "metadata": {
        "id": "yjI5LNdeAEJZ"
      },
      "execution_count": null,
      "outputs": []
    },
    {
      "cell_type": "code",
      "source": [
        "model2.fit(x_train, y_train, epochs=10, validation_data=(x_test, y_test), callbacks=[callback])"
      ],
      "metadata": {
        "colab": {
          "base_uri": "https://localhost:8080/"
        },
        "id": "SvXfmg4eA_CJ",
        "outputId": "4e26efed-97b5-46b5-b878-edcd50b2c8a1"
      },
      "execution_count": null,
      "outputs": [
        {
          "output_type": "stream",
          "name": "stdout",
          "text": [
            "Epoch 1/10\n",
            "1563/1563 [==============================] - 17s 10ms/step - loss: 1.5276 - accuracy: 0.4501 - val_loss: 1.2230 - val_accuracy: 0.5630\n",
            "Epoch 2/10\n",
            "1563/1563 [==============================] - 15s 9ms/step - loss: 1.2027 - accuracy: 0.5713 - val_loss: 1.0510 - val_accuracy: 0.6281\n",
            "Epoch 3/10\n",
            "1563/1563 [==============================] - 15s 10ms/step - loss: 1.0488 - accuracy: 0.6268 - val_loss: 1.0080 - val_accuracy: 0.6472\n",
            "Epoch 4/10\n",
            "1563/1563 [==============================] - 16s 10ms/step - loss: 0.9451 - accuracy: 0.6646 - val_loss: 0.9479 - val_accuracy: 0.6724\n",
            "Epoch 5/10\n",
            "1563/1563 [==============================] - 15s 9ms/step - loss: 0.8602 - accuracy: 0.6932 - val_loss: 0.9586 - val_accuracy: 0.6681\n",
            "Epoch 6/10\n",
            "1563/1563 [==============================] - 15s 9ms/step - loss: 0.7882 - accuracy: 0.7187 - val_loss: 0.9501 - val_accuracy: 0.6735\n",
            "Epoch 7/10\n",
            "1563/1563 [==============================] - 15s 9ms/step - loss: 0.7236 - accuracy: 0.7417 - val_loss: 0.9582 - val_accuracy: 0.6749\n",
            "Epoch 8/10\n",
            "1563/1563 [==============================] - 15s 9ms/step - loss: 0.6663 - accuracy: 0.7605 - val_loss: 0.9741 - val_accuracy: 0.6767\n",
            "Epoch 9/10\n",
            "1563/1563 [==============================] - 16s 10ms/step - loss: 0.6142 - accuracy: 0.7765 - val_loss: 0.9943 - val_accuracy: 0.6771\n",
            "Epoch 10/10\n",
            "1563/1563 [==============================] - 15s 10ms/step - loss: 0.5792 - accuracy: 0.7926 - val_loss: 0.9986 - val_accuracy: 0.6813\n"
          ]
        },
        {
          "output_type": "execute_result",
          "data": {
            "text/plain": [
              "<keras.callbacks.History at 0x7f220d915660>"
            ]
          },
          "metadata": {},
          "execution_count": 24
        }
      ]
    },
    {
      "cell_type": "code",
      "source": [
        "# 8. Print the summary and verify your configuration"
      ],
      "metadata": {
        "id": "MUYeQolBBbfx"
      },
      "execution_count": null,
      "outputs": []
    },
    {
      "cell_type": "code",
      "source": [
        "model2.summary()"
      ],
      "metadata": {
        "colab": {
          "base_uri": "https://localhost:8080/"
        },
        "id": "QEJrtOB9BUMI",
        "outputId": "40fd115c-28aa-4431-f176-7b8a772a9bff"
      },
      "execution_count": null,
      "outputs": [
        {
          "output_type": "stream",
          "name": "stdout",
          "text": [
            "Model: \"sequential_2\"\n",
            "_________________________________________________________________\n",
            " Layer (type)                Output Shape              Param #   \n",
            "=================================================================\n",
            " conv2d_5 (Conv2D)           (None, 32, 32, 64)        4864      \n",
            "                                                                 \n",
            " conv2d_6 (Conv2D)           (None, 32, 32, 128)       73856     \n",
            "                                                                 \n",
            " max_pooling2d_2 (MaxPooling  (None, 16, 16, 128)      0         \n",
            " 2D)                                                             \n",
            "                                                                 \n",
            " dropout_2 (Dropout)         (None, 16, 16, 128)       0         \n",
            "                                                                 \n",
            " flatten_2 (Flatten)         (None, 32768)             0         \n",
            "                                                                 \n",
            " dense_4 (Dense)             (None, 128)               4194432   \n",
            "                                                                 \n",
            " dropout_3 (Dropout)         (None, 128)               0         \n",
            "                                                                 \n",
            " dense_5 (Dense)             (None, 10)                1290      \n",
            "                                                                 \n",
            "=================================================================\n",
            "Total params: 4,274,442\n",
            "Trainable params: 4,274,442\n",
            "Non-trainable params: 0\n",
            "_________________________________________________________________\n"
          ]
        }
      ]
    },
    {
      "cell_type": "code",
      "source": [
        "# 9. compile and fit and validate your model with the following parameters"
      ],
      "metadata": {
        "id": "MwUlEK87Blk5"
      },
      "execution_count": null,
      "outputs": []
    },
    {
      "cell_type": "code",
      "source": [
        "opt = tf.keras.optimizers.RMSprop(learning_rate=0.0005, weight_decay=1e-6)\n",
        "model2.compile(optimizer=opt, loss='categorical_crossentropy', metrics=['accuracy'])"
      ],
      "metadata": {
        "id": "4e4S1CqYBlhf"
      },
      "execution_count": null,
      "outputs": []
    },
    {
      "cell_type": "code",
      "source": [
        "history3 = model2.fit(x_train, y_train, batch_size=32, epochs=15, validation_data=(x_test, y_test), shuffle=True)"
      ],
      "metadata": {
        "id": "gRQ1rzr0Blfk",
        "colab": {
          "base_uri": "https://localhost:8080/"
        },
        "outputId": "8868767c-220f-48e2-bd28-b4aaaf8437aa"
      },
      "execution_count": null,
      "outputs": [
        {
          "output_type": "stream",
          "name": "stdout",
          "text": [
            "Epoch 1/15\n",
            "1563/1563 [==============================] - 19s 10ms/step - loss: 0.4714 - accuracy: 0.8292 - val_loss: 1.0793 - val_accuracy: 0.6971\n",
            "Epoch 2/15\n",
            "1563/1563 [==============================] - 15s 10ms/step - loss: 0.4560 - accuracy: 0.8375 - val_loss: 1.0890 - val_accuracy: 0.6947\n",
            "Epoch 3/15\n",
            "1563/1563 [==============================] - 17s 11ms/step - loss: 0.4626 - accuracy: 0.8358 - val_loss: 1.2366 - val_accuracy: 0.6995\n",
            "Epoch 4/15\n",
            "1563/1563 [==============================] - 16s 10ms/step - loss: 0.4763 - accuracy: 0.8354 - val_loss: 1.2204 - val_accuracy: 0.7014\n",
            "Epoch 5/15\n",
            "1563/1563 [==============================] - 16s 10ms/step - loss: 0.5000 - accuracy: 0.8295 - val_loss: 1.2011 - val_accuracy: 0.7046\n",
            "Epoch 6/15\n",
            "1563/1563 [==============================] - 16s 10ms/step - loss: 0.5214 - accuracy: 0.8266 - val_loss: 1.1215 - val_accuracy: 0.6789\n",
            "Epoch 7/15\n",
            "1563/1563 [==============================] - 16s 10ms/step - loss: 0.5524 - accuracy: 0.8159 - val_loss: 1.1080 - val_accuracy: 0.6866\n",
            "Epoch 8/15\n",
            "1563/1563 [==============================] - 15s 10ms/step - loss: 0.5851 - accuracy: 0.8097 - val_loss: 1.1703 - val_accuracy: 0.6797\n",
            "Epoch 9/15\n",
            "1563/1563 [==============================] - 15s 10ms/step - loss: 0.6145 - accuracy: 0.8002 - val_loss: 1.5523 - val_accuracy: 0.6981\n",
            "Epoch 10/15\n",
            "1563/1563 [==============================] - 15s 10ms/step - loss: 0.6489 - accuracy: 0.7936 - val_loss: 1.5435 - val_accuracy: 0.6974\n",
            "Epoch 11/15\n",
            "1563/1563 [==============================] - 16s 10ms/step - loss: 0.6666 - accuracy: 0.7899 - val_loss: 1.1897 - val_accuracy: 0.6933\n",
            "Epoch 12/15\n",
            "1563/1563 [==============================] - 15s 10ms/step - loss: 0.6887 - accuracy: 0.7841 - val_loss: 1.2821 - val_accuracy: 0.6898\n",
            "Epoch 13/15\n",
            "1563/1563 [==============================] - 15s 10ms/step - loss: 0.7126 - accuracy: 0.7782 - val_loss: 1.1306 - val_accuracy: 0.6569\n",
            "Epoch 14/15\n",
            "1563/1563 [==============================] - 16s 10ms/step - loss: 0.7244 - accuracy: 0.7748 - val_loss: 1.1975 - val_accuracy: 0.6058\n",
            "Epoch 15/15\n",
            "1563/1563 [==============================] - 16s 10ms/step - loss: 0.7405 - accuracy: 0.7691 - val_loss: 1.4633 - val_accuracy: 0.7000\n"
          ]
        }
      ]
    },
    {
      "cell_type": "markdown",
      "source": [
        "### Part-II. Model Improvements"
      ],
      "metadata": {
        "id": "do9CApUwFixR"
      }
    },
    {
      "cell_type": "code",
      "source": [
        "# 1. Build a more complicated model with the following pattern: conv->conv->MaxPool->conv->conv->MaxPool->(Flatten)->Dense->Final Classification"
      ],
      "metadata": {
        "id": "C628gqQcBldV"
      },
      "execution_count": null,
      "outputs": []
    },
    {
      "cell_type": "code",
      "source": [
        "model3 = models.Sequential()\n",
        "\n",
        "model3.add(Conv2D(64, (5,5), padding='same', activation='relu', input_shape=(32,32,3)))\n",
        "model3.add(Conv2D(128, (3,3), padding='same', activation='relu'))\n",
        "\n",
        "#2. use strides of 1 for all convolutional layers.\n",
        "model3.add(MaxPooling2D(pool_size=(1,1),strides=(1,1)))\n",
        "\n",
        "model3.add(Conv2D(64, (5,5), padding='same', activation='relu', input_shape=(32,32,3)))\n",
        "model3.add(Conv2D(128, (3,3), padding='same', activation='relu'))\n",
        "model3.add(MaxPooling2D(pool_size=(2,2),strides=(1,1)))\n",
        "\n",
        "model3.add(Flatten())\n",
        "\n",
        "model3.add(Dense(10, activation='softmax'))"
      ],
      "metadata": {
        "id": "l_WBlNtlBla9"
      },
      "execution_count": null,
      "outputs": []
    },
    {
      "cell_type": "code",
      "source": [
        "# 3. How many parameters does your model have? How does that compare to the previous model?"
      ],
      "metadata": {
        "id": "0LLe0U9bBlYq"
      },
      "execution_count": null,
      "outputs": []
    },
    {
      "cell_type": "code",
      "source": [
        "model3.summary()"
      ],
      "metadata": {
        "id": "fMMW03HuBlWC",
        "colab": {
          "base_uri": "https://localhost:8080/"
        },
        "outputId": "80072bd8-0ec3-42bf-90e3-43a531e83007"
      },
      "execution_count": null,
      "outputs": [
        {
          "output_type": "stream",
          "name": "stdout",
          "text": [
            "Model: \"sequential_3\"\n",
            "_________________________________________________________________\n",
            " Layer (type)                Output Shape              Param #   \n",
            "=================================================================\n",
            " conv2d_12 (Conv2D)          (None, 32, 32, 64)        4864      \n",
            "                                                                 \n",
            " conv2d_13 (Conv2D)          (None, 32, 32, 128)       73856     \n",
            "                                                                 \n",
            " max_pooling2d_5 (MaxPoolin  (None, 32, 32, 128)       0         \n",
            " g2D)                                                            \n",
            "                                                                 \n",
            " conv2d_14 (Conv2D)          (None, 32, 32, 64)        204864    \n",
            "                                                                 \n",
            " conv2d_15 (Conv2D)          (None, 32, 32, 128)       73856     \n",
            "                                                                 \n",
            " max_pooling2d_6 (MaxPoolin  (None, 31, 31, 128)       0         \n",
            " g2D)                                                            \n",
            "                                                                 \n",
            " flatten_3 (Flatten)         (None, 123008)            0         \n",
            "                                                                 \n",
            " dense_6 (Dense)             (None, 10)                1230090   \n",
            "                                                                 \n",
            "=================================================================\n",
            "Total params: 1587530 (6.06 MB)\n",
            "Trainable params: 1587530 (6.06 MB)\n",
            "Non-trainable params: 0 (0.00 Byte)\n",
            "_________________________________________________________________\n"
          ]
        }
      ]
    },
    {
      "cell_type": "code",
      "source": [
        "opt = tf.keras.optimizers.RMSprop(learning_rate=0.0005, weight_decay=1e-6)\n",
        "model3.compile(optimizer=opt, loss='categorical_crossentropy', metrics=['accuracy'])"
      ],
      "metadata": {
        "id": "22hcjbahyw0n"
      },
      "execution_count": null,
      "outputs": []
    },
    {
      "cell_type": "code",
      "source": [
        "# 4. Train it for 5 epochs"
      ],
      "metadata": {
        "id": "KjMU-xIbBlBx"
      },
      "execution_count": null,
      "outputs": []
    },
    {
      "cell_type": "code",
      "source": [
        "history4 = model3.fit(x_train, y_train, batch_size=32, epochs=5, validation_data=(x_test, y_test), shuffle=True)"
      ],
      "metadata": {
        "id": "WEDU7BmMKfvR",
        "colab": {
          "base_uri": "https://localhost:8080/"
        },
        "outputId": "2c20878f-7ab8-4713-c108-202532e52939"
      },
      "execution_count": null,
      "outputs": [
        {
          "output_type": "stream",
          "name": "stdout",
          "text": [
            "Epoch 1/5\n",
            "1563/1563 [==============================] - 36s 17ms/step - loss: 1.4282 - accuracy: 0.4934 - val_loss: 1.2869 - val_accuracy: 0.5655\n",
            "Epoch 2/5\n",
            "1563/1563 [==============================] - 25s 16ms/step - loss: 0.9570 - accuracy: 0.6691 - val_loss: 1.0420 - val_accuracy: 0.6540\n",
            "Epoch 3/5\n",
            "1563/1563 [==============================] - 25s 16ms/step - loss: 0.7627 - accuracy: 0.7388 - val_loss: 0.8179 - val_accuracy: 0.7220\n",
            "Epoch 4/5\n",
            "1563/1563 [==============================] - 26s 16ms/step - loss: 0.6274 - accuracy: 0.7876 - val_loss: 0.8677 - val_accuracy: 0.7203\n",
            "Epoch 5/5\n",
            "1563/1563 [==============================] - 25s 16ms/step - loss: 0.5068 - accuracy: 0.8312 - val_loss: 0.8684 - val_accuracy: 0.7248\n"
          ]
        }
      ]
    },
    {
      "cell_type": "code",
      "source": [
        "# 5. Try different structures and run times, and see how accurate your model can be"
      ],
      "metadata": {
        "id": "QhBAvEoxKj39"
      },
      "execution_count": null,
      "outputs": []
    },
    {
      "cell_type": "code",
      "source": [
        "model4 = models.Sequential()\n",
        "\n",
        "model4.add(layers.Conv2D(64, (5,5), padding='same', activation='relu', input_shape=(32,32,3)))\n",
        "model4.add(layers.Conv2D(128, (3,3), padding='same', activation='relu'))\n",
        "model4.add(layers.MaxPooling2D(pool_size=(2,2),strides=(2,2)))\n",
        "\n",
        "model4.add(layers.Conv2D(128, (3,3), padding='same', activation='relu'))\n",
        "model4.add(layers.Conv2D(128, (3,3), padding='same', activation='relu'))\n",
        "model4.add(layers.MaxPooling2D(pool_size=(2,2)))\n",
        "\n",
        "model4.add(layers.Conv2D(128, (3,3), padding='same', activation='relu'))\n",
        "model4.add(layers.Conv2D(128, (3,3), padding='same', activation='relu'))\n",
        "model4.add(layers.MaxPooling2D(pool_size=(2,2)))\n",
        "\n",
        "model4.add(layers.Flatten())\n",
        "model4.add(layers.Dense(128, activation='relu'))\n",
        "model4.add(layers.Dense(64, activation='relu'))\n",
        "model4.add(layers.Dense(10, activation='softmax'))\n",
        "\n",
        "model4.summary()"
      ],
      "metadata": {
        "id": "Cik63qVBOU27",
        "colab": {
          "base_uri": "https://localhost:8080/"
        },
        "outputId": "d074ae0e-71ac-407c-d039-dfade0a78bf7"
      },
      "execution_count": null,
      "outputs": [
        {
          "output_type": "stream",
          "name": "stdout",
          "text": [
            "Model: \"sequential_4\"\n",
            "_________________________________________________________________\n",
            " Layer (type)                Output Shape              Param #   \n",
            "=================================================================\n",
            " conv2d_16 (Conv2D)          (None, 32, 32, 64)        4864      \n",
            "                                                                 \n",
            " conv2d_17 (Conv2D)          (None, 32, 32, 128)       73856     \n",
            "                                                                 \n",
            " max_pooling2d_7 (MaxPoolin  (None, 16, 16, 128)       0         \n",
            " g2D)                                                            \n",
            "                                                                 \n",
            " conv2d_18 (Conv2D)          (None, 16, 16, 128)       147584    \n",
            "                                                                 \n",
            " conv2d_19 (Conv2D)          (None, 16, 16, 128)       147584    \n",
            "                                                                 \n",
            " max_pooling2d_8 (MaxPoolin  (None, 8, 8, 128)         0         \n",
            " g2D)                                                            \n",
            "                                                                 \n",
            " conv2d_20 (Conv2D)          (None, 8, 8, 128)         147584    \n",
            "                                                                 \n",
            " conv2d_21 (Conv2D)          (None, 8, 8, 128)         147584    \n",
            "                                                                 \n",
            " max_pooling2d_9 (MaxPoolin  (None, 4, 4, 128)         0         \n",
            " g2D)                                                            \n",
            "                                                                 \n",
            " flatten_4 (Flatten)         (None, 2048)              0         \n",
            "                                                                 \n",
            " dense_7 (Dense)             (None, 128)               262272    \n",
            "                                                                 \n",
            " dense_8 (Dense)             (None, 64)                8256      \n",
            "                                                                 \n",
            " dense_9 (Dense)             (None, 10)                650       \n",
            "                                                                 \n",
            "=================================================================\n",
            "Total params: 940234 (3.59 MB)\n",
            "Trainable params: 940234 (3.59 MB)\n",
            "Non-trainable params: 0 (0.00 Byte)\n",
            "_________________________________________________________________\n"
          ]
        }
      ]
    },
    {
      "cell_type": "code",
      "source": [
        "opt = tf.keras.optimizers.RMSprop(learning_rate=0.0005, weight_decay=1e-6)\n",
        "model4.compile(optimizer=opt, loss='categorical_crossentropy', metrics=['accuracy'])"
      ],
      "metadata": {
        "id": "yF0axVmPz2sM"
      },
      "execution_count": null,
      "outputs": []
    },
    {
      "cell_type": "code",
      "source": [
        "history5 = model4.fit(x_train, y_train, batch_size=32, epochs=5, validation_data=(x_test, y_test), shuffle=True)"
      ],
      "metadata": {
        "id": "iBq8um6SOP1d",
        "colab": {
          "base_uri": "https://localhost:8080/"
        },
        "outputId": "aea9370f-276b-4f01-a085-0cd3165f356d"
      },
      "execution_count": null,
      "outputs": [
        {
          "output_type": "stream",
          "name": "stdout",
          "text": [
            "Epoch 1/5\n",
            "1563/1563 [==============================] - 24s 13ms/step - loss: 1.6434 - accuracy: 0.4001 - val_loss: 1.5742 - val_accuracy: 0.4777\n",
            "Epoch 2/5\n",
            "1563/1563 [==============================] - 17s 11ms/step - loss: 1.0863 - accuracy: 0.6163 - val_loss: 1.0355 - val_accuracy: 0.6390\n",
            "Epoch 3/5\n",
            "1563/1563 [==============================] - 18s 12ms/step - loss: 0.8172 - accuracy: 0.7143 - val_loss: 0.8812 - val_accuracy: 0.6980\n",
            "Epoch 4/5\n",
            "1563/1563 [==============================] - 17s 11ms/step - loss: 0.6630 - accuracy: 0.7701 - val_loss: 0.7358 - val_accuracy: 0.7546\n",
            "Epoch 5/5\n",
            "1563/1563 [==============================] - 17s 11ms/step - loss: 0.5477 - accuracy: 0.8108 - val_loss: 0.6910 - val_accuracy: 0.7707\n"
          ]
        }
      ]
    },
    {
      "cell_type": "code",
      "source": [
        "classes = ['airplane', 'automobile', 'bird', 'cat', 'deer', 'dog', 'frog', 'horse', 'ship', 'truck']"
      ],
      "metadata": {
        "id": "jfyhU3etpA8h"
      },
      "execution_count": null,
      "outputs": []
    },
    {
      "cell_type": "code",
      "source": [
        "y_pred = model4.predict(x_test)"
      ],
      "metadata": {
        "id": "QmqQvwYouWqt",
        "colab": {
          "base_uri": "https://localhost:8080/"
        },
        "outputId": "e890d3a4-4d1e-4684-cbf4-df2c28dbda27"
      },
      "execution_count": null,
      "outputs": [
        {
          "output_type": "stream",
          "name": "stdout",
          "text": [
            "313/313 [==============================] - 1s 3ms/step\n"
          ]
        }
      ]
    },
    {
      "cell_type": "code",
      "source": [
        "y_pred[:5]"
      ],
      "metadata": {
        "colab": {
          "base_uri": "https://localhost:8080/"
        },
        "id": "klWZqGX_qZHE",
        "outputId": "ed310a1c-2a1a-4cd4-e51d-cf1f3cd862f1"
      },
      "execution_count": null,
      "outputs": [
        {
          "output_type": "execute_result",
          "data": {
            "text/plain": [
              "array([[4.4679065e-04, 5.8120604e-05, 4.3372897e-04, 3.1337368e-01,\n",
              "        5.9574505e-04, 6.8033594e-01, 9.1570284e-04, 3.3867925e-03,\n",
              "        3.5844397e-04, 9.5004012e-05],\n",
              "       [6.6371664e-05, 4.1186428e-05, 1.0006554e-07, 1.8627530e-08,\n",
              "        4.5402061e-08, 3.3704874e-09, 4.4445057e-09, 1.4608950e-09,\n",
              "        9.9987674e-01, 1.5447471e-05],\n",
              "       [1.8012992e-01, 1.6189067e-02, 1.1599353e-02, 4.3539252e-02,\n",
              "        1.1425370e-03, 4.5689321e-03, 1.4122219e-03, 1.9070515e-03,\n",
              "        7.3701179e-01, 2.4997985e-03],\n",
              "       [8.7531686e-01, 3.3873897e-03, 8.1409834e-02, 8.7028807e-03,\n",
              "        3.1150822e-03, 1.9587803e-04, 5.4013554e-04, 3.9551491e-05,\n",
              "        2.4085794e-02, 3.2065779e-03],\n",
              "       [1.9560523e-05, 6.2965673e-06, 6.7204651e-03, 3.3282279e-03,\n",
              "        2.1612689e-02, 1.7157724e-04, 9.6808761e-01, 8.3921686e-06,\n",
              "        3.6087509e-05, 9.0921940e-06]], dtype=float32)"
            ]
          },
          "metadata": {},
          "execution_count": 41
        }
      ]
    },
    {
      "cell_type": "code",
      "source": [
        "y_classes = [np.argmax(element) for element in y_pred]\n",
        "y_classes[:5]"
      ],
      "metadata": {
        "colab": {
          "base_uri": "https://localhost:8080/"
        },
        "id": "dNCfah9JqYzY",
        "outputId": "99fa1a46-f404-489e-e19e-cd4e5e06fab0"
      },
      "execution_count": null,
      "outputs": [
        {
          "output_type": "execute_result",
          "data": {
            "text/plain": [
              "[5, 8, 8, 0, 6]"
            ]
          },
          "metadata": {},
          "execution_count": 42
        }
      ]
    },
    {
      "cell_type": "code",
      "source": [
        "y_test = y_test.reshape(-1,)"
      ],
      "metadata": {
        "id": "hkVVdqibrqQQ"
      },
      "execution_count": null,
      "outputs": []
    },
    {
      "cell_type": "code",
      "source": [
        "y_test[:5]"
      ],
      "metadata": {
        "colab": {
          "base_uri": "https://localhost:8080/"
        },
        "id": "i4ATDS-3rE0H",
        "outputId": "06f3c02b-c623-49bd-9ea8-4e438bb36d76"
      },
      "execution_count": null,
      "outputs": [
        {
          "output_type": "execute_result",
          "data": {
            "text/plain": [
              "array([0., 0., 0., 1., 0.], dtype=float32)"
            ]
          },
          "metadata": {},
          "execution_count": 44
        }
      ]
    },
    {
      "cell_type": "code",
      "source": [
        "y_pred = model3.predict(x_test)\n",
        "y_classes = [np.argmax(element) for element in y_pred]\n",
        "\n",
        "y_test[:5]"
      ],
      "metadata": {
        "colab": {
          "base_uri": "https://localhost:8080/"
        },
        "id": "esjZY1T_rHT5",
        "outputId": "d9834e8f-f009-4f62-cc2f-4f6a1d708919"
      },
      "execution_count": null,
      "outputs": [
        {
          "output_type": "stream",
          "name": "stdout",
          "text": [
            "313/313 [==============================] - 2s 5ms/step\n"
          ]
        },
        {
          "output_type": "execute_result",
          "data": {
            "text/plain": [
              "array([0., 0., 0., 1., 0.], dtype=float32)"
            ]
          },
          "metadata": {},
          "execution_count": 45
        }
      ]
    },
    {
      "cell_type": "code",
      "source": [
        "y_classes[:5]"
      ],
      "metadata": {
        "colab": {
          "base_uri": "https://localhost:8080/"
        },
        "id": "KKIshGvluju6",
        "outputId": "1f281bbf-16ef-4e2f-f7ca-7803999fe796"
      },
      "execution_count": null,
      "outputs": [
        {
          "output_type": "execute_result",
          "data": {
            "text/plain": [
              "[3, 8, 8, 0, 6]"
            ]
          },
          "metadata": {},
          "execution_count": 46
        }
      ]
    },
    {
      "cell_type": "code",
      "source": [
        "def plot_images(X, y, index):\n",
        "  #plt.figure(figsize = (10, 10))\n",
        "  plt.imshow(X[index])\n",
        "  plt.xlabel(classes[y[index]])\n"
      ],
      "metadata": {
        "id": "13AYsW9xukPf"
      },
      "execution_count": null,
      "outputs": []
    },
    {
      "cell_type": "code",
      "source": [
        "y_test = y_test.astype(int)"
      ],
      "metadata": {
        "id": "npIYv2w8wVev"
      },
      "execution_count": null,
      "outputs": []
    },
    {
      "cell_type": "code",
      "source": [
        "y_train.astype(int)"
      ],
      "metadata": {
        "colab": {
          "base_uri": "https://localhost:8080/"
        },
        "id": "3Dr-84DtzOLK",
        "outputId": "b61a4a3d-cc28-4e3f-a2cd-8e79a11a4a4a"
      },
      "execution_count": null,
      "outputs": [
        {
          "output_type": "execute_result",
          "data": {
            "text/plain": [
              "array([[6],\n",
              "       [9],\n",
              "       [9],\n",
              "       ...,\n",
              "       [9],\n",
              "       [1],\n",
              "       [1]])"
            ]
          },
          "metadata": {},
          "execution_count": 77
        }
      ]
    },
    {
      "cell_type": "code",
      "source": [
        "y_train = y_train.reshape(-1,)\n",
        "y_train[:5]"
      ],
      "metadata": {
        "colab": {
          "base_uri": "https://localhost:8080/"
        },
        "id": "sUt79TE6zyf4",
        "outputId": "f75d0571-f356-411d-ee46-e354de8fd245"
      },
      "execution_count": null,
      "outputs": [
        {
          "output_type": "execute_result",
          "data": {
            "text/plain": [
              "array([6, 9, 9, 4, 1], dtype=uint8)"
            ]
          },
          "metadata": {},
          "execution_count": 78
        }
      ]
    },
    {
      "cell_type": "code",
      "source": [
        "y_test = y_test.reshape(-1,)\n",
        "y_test[:5]"
      ],
      "metadata": {
        "colab": {
          "base_uri": "https://localhost:8080/"
        },
        "id": "Nd7pjrYA0AHx",
        "outputId": "eed23420-46b8-4ce2-e8d4-a84013455715"
      },
      "execution_count": null,
      "outputs": [
        {
          "output_type": "execute_result",
          "data": {
            "text/plain": [
              "array([3, 8, 8, 0, 6], dtype=uint8)"
            ]
          },
          "metadata": {},
          "execution_count": 83
        }
      ]
    },
    {
      "cell_type": "code",
      "source": [
        "plot_images(x_test, y_test, 2)"
      ],
      "metadata": {
        "colab": {
          "base_uri": "https://localhost:8080/",
          "height": 449
        },
        "id": "QQdkYGmvvMnH",
        "outputId": "71cab01a-33d6-4619-824f-9fec3a43761d"
      },
      "execution_count": null,
      "outputs": [
        {
          "output_type": "display_data",
          "data": {
            "text/plain": [
              "<Figure size 640x480 with 1 Axes>"
            ],
            "image/png": "[encoded data removed]"
          },
          "metadata": {}
        }
      ]
    },
    {
      "cell_type": "code",
      "source": [
        "plot_images(x_test, y_classes, 2)"
      ],
      "metadata": {
        "colab": {
          "base_uri": "https://localhost:8080/",
          "height": 449
        },
        "id": "7g3gGM_hvT5E",
        "outputId": "034b2476-91f0-48df-c699-a5d130c29ab9"
      },
      "execution_count": null,
      "outputs": [
        {
          "output_type": "display_data",
          "data": {
            "text/plain": [
              "<Figure size 640x480 with 1 Axes>"
            ],
            "image/png": "[encoded data removed]"
          },
          "metadata": {}
        }
      ]
    },
    {
      "cell_type": "code",
      "source": [],
      "metadata": {
        "id": "vCZ_WB-xxaaa"
      },
      "execution_count": null,
      "outputs": []
    }
  ],
  "metadata": {
    "colab": {
      "provenance": [],
      "gpuType": "T4"
    },
    "kernelspec": {
      "display_name": "Python 3",
      "name": "python3"
    },
    "language_info": {
      "name": "python"
    },
    "accelerator": "GPU"
  },
  "nbformat": 4,
  "nbformat_minor": 0
}