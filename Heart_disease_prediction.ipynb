{
  "cells": [
    {
      "cell_type": "markdown",
      "source": [
        "# Binary Classification of Heart Disease of Patients using Deep Neural Network"
      ],
      "metadata": {
        "id": "DtKDnxJOraF0"
      },
      "id": "DtKDnxJOraF0"
    },
    {
      "cell_type": "code",
      "execution_count": 1,
      "id": "87e730f5",
      "metadata": {
        "id": "87e730f5"
      },
      "outputs": [],
      "source": [
        "import pandas as pd\n",
        "import tensorflow as tf\n",
        "from tensorflow import keras\n",
        "from sklearn.model_selection import train_test_split as tts"
      ]
    },
    {
      "cell_type": "code",
      "source": [
        "# 1. Load the dataset"
      ],
      "metadata": {
        "id": "fzWgypi_rxUb"
      },
      "id": "fzWgypi_rxUb",
      "execution_count": 2,
      "outputs": []
    },
    {
      "cell_type": "code",
      "execution_count": 2,
      "id": "24530563",
      "metadata": {
        "id": "24530563"
      },
      "outputs": [],
      "source": [
        "df = pd.read_csv('heart_data.csv')"
      ]
    },
    {
      "cell_type": "code",
      "execution_count": 3,
      "id": "2713630a",
      "metadata": {
        "colab": {
          "base_uri": "https://localhost:8080/",
          "height": 206
        },
        "id": "2713630a",
        "outputId": "e1470b89-b4d6-4adb-ffd6-687183d0a7f6"
      },
      "outputs": [
        {
          "output_type": "execute_result",
          "data": {
            "text/plain": [
              "   age  sex  cp  trestbps  chol  fbs  restecg  thalach  exang  oldpeak  slope  \\\n",
              "0   63    1   3       145   233    1        0      150      0      2.3      0   \n",
              "1   37    1   2       130   250    0        1      187      0      3.5      0   \n",
              "2   41    0   1       130   204    0        0      172      0      1.4      2   \n",
              "3   56    1   1       120   236    0        1      178      0      0.8      2   \n",
              "4   57    0   0       120   354    0        1      163      1      0.6      2   \n",
              "\n",
              "   ca  thal  target  \n",
              "0   0     1       1  \n",
              "1   0     2       1  \n",
              "2   0     2       1  \n",
              "3   0     2       1  \n",
              "4   0     2       1  "
            ],
            "text/html": [
              "\n",
              "  <div id=\"df-31ae2021-1f76-4b6c-a5a6-631307a5180b\" class=\"colab-df-container\">\n",
              "    <div>\n",
              "<style scoped>\n",
              "    .dataframe tbody tr th:only-of-type {\n",
              "        vertical-align: middle;\n",
              "    }\n",
              "\n",
              "    .dataframe tbody tr th {\n",
              "        vertical-align: top;\n",
              "    }\n",
              "\n",
              "    .dataframe thead th {\n",
              "        text-align: right;\n",
              "    }\n",
              "</style>\n",
              "<table border=\"1\" class=\"dataframe\">\n",
              "  <thead>\n",
              "    <tr style=\"text-align: right;\">\n",
              "      <th></th>\n",
              "      <th>age</th>\n",
              "      <th>sex</th>\n",
              "      <th>cp</th>\n",
              "      <th>trestbps</th>\n",
              "      <th>chol</th>\n",
              "      <th>fbs</th>\n",
              "      <th>restecg</th>\n",
              "      <th>thalach</th>\n",
              "      <th>exang</th>\n",
              "      <th>oldpeak</th>\n",
              "      <th>slope</th>\n",
              "      <th>ca</th>\n",
              "      <th>thal</th>\n",
              "      <th>target</th>\n",
              "    </tr>\n",
              "  </thead>\n",
              "  <tbody>\n",
              "    <tr>\n",
              "      <th>0</th>\n",
              "      <td>63</td>\n",
              "      <td>1</td>\n",
              "      <td>3</td>\n",
              "      <td>145</td>\n",
              "      <td>233</td>\n",
              "      <td>1</td>\n",
              "      <td>0</td>\n",
              "      <td>150</td>\n",
              "      <td>0</td>\n",
              "      <td>2.3</td>\n",
              "      <td>0</td>\n",
              "      <td>0</td>\n",
              "      <td>1</td>\n",
              "      <td>1</td>\n",
              "    </tr>\n",
              "    <tr>\n",
              "      <th>1</th>\n",
              "      <td>37</td>\n",
              "      <td>1</td>\n",
              "      <td>2</td>\n",
              "      <td>130</td>\n",
              "      <td>250</td>\n",
              "      <td>0</td>\n",
              "      <td>1</td>\n",
              "      <td>187</td>\n",
              "      <td>0</td>\n",
              "      <td>3.5</td>\n",
              "      <td>0</td>\n",
              "      <td>0</td>\n",
              "      <td>2</td>\n",
              "      <td>1</td>\n",
              "    </tr>\n",
              "    <tr>\n",
              "      <th>2</th>\n",
              "      <td>41</td>\n",
              "      <td>0</td>\n",
              "      <td>1</td>\n",
              "      <td>130</td>\n",
              "      <td>204</td>\n",
              "      <td>0</td>\n",
              "      <td>0</td>\n",
              "      <td>172</td>\n",
              "      <td>0</td>\n",
              "      <td>1.4</td>\n",
              "      <td>2</td>\n",
              "      <td>0</td>\n",
              "      <td>2</td>\n",
              "      <td>1</td>\n",
              "    </tr>\n",
              "    <tr>\n",
              "      <th>3</th>\n",
              "      <td>56</td>\n",
              "      <td>1</td>\n",
              "      <td>1</td>\n",
              "      <td>120</td>\n",
              "      <td>236</td>\n",
              "      <td>0</td>\n",
              "      <td>1</td>\n",
              "      <td>178</td>\n",
              "      <td>0</td>\n",
              "      <td>0.8</td>\n",
              "      <td>2</td>\n",
              "      <td>0</td>\n",
              "      <td>2</td>\n",
              "      <td>1</td>\n",
              "    </tr>\n",
              "    <tr>\n",
              "      <th>4</th>\n",
              "      <td>57</td>\n",
              "      <td>0</td>\n",
              "      <td>0</td>\n",
              "      <td>120</td>\n",
              "      <td>354</td>\n",
              "      <td>0</td>\n",
              "      <td>1</td>\n",
              "      <td>163</td>\n",
              "      <td>1</td>\n",
              "      <td>0.6</td>\n",
              "      <td>2</td>\n",
              "      <td>0</td>\n",
              "      <td>2</td>\n",
              "      <td>1</td>\n",
              "    </tr>\n",
              "  </tbody>\n",
              "</table>\n",
              "</div>\n",
              "    <div class=\"colab-df-buttons\">\n",
              "\n",
              "  <div class=\"colab-df-container\">\n",
              "    <button class=\"colab-df-convert\" onclick=\"convertToInteractive('df-31ae2021-1f76-4b6c-a5a6-631307a5180b')\"\n",
              "            title=\"Convert this dataframe to an interactive table.\"\n",
              "            style=\"display:none;\">\n",
              "\n",
              "  <svg xmlns=\"http://www.w3.org/2000/svg\" height=\"24px\" viewBox=\"0 -960 960 960\">\n",
              "    <path d=\"M120-120v-720h720v720H120Zm60-500h600v-160H180v160Zm220 220h160v-160H400v160Zm0 220h160v-160H400v160ZM180-400h160v-160H180v160Zm440 0h160v-160H620v160ZM180-180h160v-160H180v160Zm440 0h160v-160H620v160Z\"/>\n",
              "  </svg>\n",
              "    </button>\n",
              "\n",
              "  <style>\n",
              "    .colab-df-container {\n",
              "      display:flex;\n",
              "      gap: 12px;\n",
              "    }\n",
              "\n",
              "    .colab-df-convert {\n",
              "      background-color: #E8F0FE;\n",
              "      border: none;\n",
              "      border-radius: 50%;\n",
              "      cursor: pointer;\n",
              "      display: none;\n",
              "      fill: #1967D2;\n",
              "      height: 32px;\n",
              "      padding: 0 0 0 0;\n",
              "      width: 32px;\n",
              "    }\n",
              "\n",
              "    .colab-df-convert:hover {\n",
              "      background-color: #E2EBFA;\n",
              "      box-shadow: 0px 1px 2px rgba(60, 64, 67, 0.3), 0px 1px 3px 1px rgba(60, 64, 67, 0.15);\n",
              "      fill: #174EA6;\n",
              "    }\n",
              "\n",
              "    .colab-df-buttons div {\n",
              "      margin-bottom: 4px;\n",
              "    }\n",
              "\n",
              "    [theme=dark] .colab-df-convert {\n",
              "      background-color: #3B4455;\n",
              "      fill: #D2E3FC;\n",
              "    }\n",
              "\n",
              "    [theme=dark] .colab-df-convert:hover {\n",
              "      background-color: #434B5C;\n",
              "      box-shadow: 0px 1px 3px 1px rgba(0, 0, 0, 0.15);\n",
              "      filter: drop-shadow(0px 1px 2px rgba(0, 0, 0, 0.3));\n",
              "      fill: #FFFFFF;\n",
              "    }\n",
              "  </style>\n",
              "\n",
              "    <script>\n",
              "      const buttonEl =\n",
              "        document.querySelector('#df-31ae2021-1f76-4b6c-a5a6-631307a5180b button.colab-df-convert');\n",
              "      buttonEl.style.display =\n",
              "        google.colab.kernel.accessAllowed ? 'block' : 'none';\n",
              "\n",
              "      async function convertToInteractive(key) {\n",
              "        const element = document.querySelector('#df-31ae2021-1f76-4b6c-a5a6-631307a5180b');\n",
              "        const dataTable =\n",
              "          await google.colab.kernel.invokeFunction('convertToInteractive',\n",
              "                                                    [key], {});\n",
              "        if (!dataTable) return;\n",
              "\n",
              "        const docLinkHtml = 'Like what you see? Visit the ' +\n",
              "          '<a target=\"_blank\" href=https://colab.research.google.com/notebooks/data_table.ipynb>data table notebook</a>'\n",
              "          + ' to learn more about interactive tables.';\n",
              "        element.innerHTML = '';\n",
              "        dataTable['output_type'] = 'display_data';\n",
              "        await google.colab.output.renderOutput(dataTable, element);\n",
              "        const docLink = document.createElement('div');\n",
              "        docLink.innerHTML = docLinkHtml;\n",
              "        element.appendChild(docLink);\n",
              "      }\n",
              "    </script>\n",
              "  </div>\n",
              "\n",
              "\n",
              "<div id=\"df-43894310-3366-4228-813e-86b6b804fc86\">\n",
              "  <button class=\"colab-df-quickchart\" onclick=\"quickchart('df-43894310-3366-4228-813e-86b6b804fc86')\"\n",
              "            title=\"Suggest charts.\"\n",
              "            style=\"display:none;\">\n",
              "\n",
              "<svg xmlns=\"http://www.w3.org/2000/svg\" height=\"24px\"viewBox=\"0 0 24 24\"\n",
              "     width=\"24px\">\n",
              "    <g>\n",
              "        <path d=\"M19 3H5c-1.1 0-2 .9-2 2v14c0 1.1.9 2 2 2h14c1.1 0 2-.9 2-2V5c0-1.1-.9-2-2-2zM9 17H7v-7h2v7zm4 0h-2V7h2v10zm4 0h-2v-4h2v4z\"/>\n",
              "    </g>\n",
              "</svg>\n",
              "  </button>\n",
              "\n",
              "<style>\n",
              "  .colab-df-quickchart {\n",
              "      --bg-color: #E8F0FE;\n",
              "      --fill-color: #1967D2;\n",
              "      --hover-bg-color: #E2EBFA;\n",
              "      --hover-fill-color: #174EA6;\n",
              "      --disabled-fill-color: #AAA;\n",
              "      --disabled-bg-color: #DDD;\n",
              "  }\n",
              "\n",
              "  [theme=dark] .colab-df-quickchart {\n",
              "      --bg-color: #3B4455;\n",
              "      --fill-color: #D2E3FC;\n",
              "      --hover-bg-color: #434B5C;\n",
              "      --hover-fill-color: #FFFFFF;\n",
              "      --disabled-bg-color: #3B4455;\n",
              "      --disabled-fill-color: #666;\n",
              "  }\n",
              "\n",
              "  .colab-df-quickchart {\n",
              "    background-color: var(--bg-color);\n",
              "    border: none;\n",
              "    border-radius: 50%;\n",
              "    cursor: pointer;\n",
              "    display: none;\n",
              "    fill: var(--fill-color);\n",
              "    height: 32px;\n",
              "    padding: 0;\n",
              "    width: 32px;\n",
              "  }\n",
              "\n",
              "  .colab-df-quickchart:hover {\n",
              "    background-color: var(--hover-bg-color);\n",
              "    box-shadow: 0 1px 2px rgba(60, 64, 67, 0.3), 0 1px 3px 1px rgba(60, 64, 67, 0.15);\n",
              "    fill: var(--button-hover-fill-color);\n",
              "  }\n",
              "\n",
              "  .colab-df-quickchart-complete:disabled,\n",
              "  .colab-df-quickchart-complete:disabled:hover {\n",
              "    background-color: var(--disabled-bg-color);\n",
              "    fill: var(--disabled-fill-color);\n",
              "    box-shadow: none;\n",
              "  }\n",
              "\n",
              "  .colab-df-spinner {\n",
              "    border: 2px solid var(--fill-color);\n",
              "    border-color: transparent;\n",
              "    border-bottom-color: var(--fill-color);\n",
              "    animation:\n",
              "      spin 1s steps(1) infinite;\n",
              "  }\n",
              "\n",
              "  @keyframes spin {\n",
              "    0% {\n",
              "      border-color: transparent;\n",
              "      border-bottom-color: var(--fill-color);\n",
              "      border-left-color: var(--fill-color);\n",
              "    }\n",
              "    20% {\n",
              "      border-color: transparent;\n",
              "      border-left-color: var(--fill-color);\n",
              "      border-top-color: var(--fill-color);\n",
              "    }\n",
              "    30% {\n",
              "      border-color: transparent;\n",
              "      border-left-color: var(--fill-color);\n",
              "      border-top-color: var(--fill-color);\n",
              "      border-right-color: var(--fill-color);\n",
              "    }\n",
              "    40% {\n",
              "      border-color: transparent;\n",
              "      border-right-color: var(--fill-color);\n",
              "      border-top-color: var(--fill-color);\n",
              "    }\n",
              "    60% {\n",
              "      border-color: transparent;\n",
              "      border-right-color: var(--fill-color);\n",
              "    }\n",
              "    80% {\n",
              "      border-color: transparent;\n",
              "      border-right-color: var(--fill-color);\n",
              "      border-bottom-color: var(--fill-color);\n",
              "    }\n",
              "    90% {\n",
              "      border-color: transparent;\n",
              "      border-bottom-color: var(--fill-color);\n",
              "    }\n",
              "  }\n",
              "</style>\n",
              "\n",
              "  <script>\n",
              "    async function quickchart(key) {\n",
              "      const quickchartButtonEl =\n",
              "        document.querySelector('#' + key + ' button');\n",
              "      quickchartButtonEl.disabled = true;  // To prevent multiple clicks.\n",
              "      quickchartButtonEl.classList.add('colab-df-spinner');\n",
              "      try {\n",
              "        const charts = await google.colab.kernel.invokeFunction(\n",
              "            'suggestCharts', [key], {});\n",
              "      } catch (error) {\n",
              "        console.error('Error during call to suggestCharts:', error);\n",
              "      }\n",
              "      quickchartButtonEl.classList.remove('colab-df-spinner');\n",
              "      quickchartButtonEl.classList.add('colab-df-quickchart-complete');\n",
              "    }\n",
              "    (() => {\n",
              "      let quickchartButtonEl =\n",
              "        document.querySelector('#df-43894310-3366-4228-813e-86b6b804fc86 button');\n",
              "      quickchartButtonEl.style.display =\n",
              "        google.colab.kernel.accessAllowed ? 'block' : 'none';\n",
              "    })();\n",
              "  </script>\n",
              "</div>\n",
              "    </div>\n",
              "  </div>\n"
            ]
          },
          "metadata": {},
          "execution_count": 3
        }
      ],
      "source": [
        "df.head()"
      ]
    },
    {
      "cell_type": "code",
      "execution_count": 4,
      "id": "21d370c3",
      "metadata": {
        "colab": {
          "base_uri": "https://localhost:8080/"
        },
        "id": "21d370c3",
        "outputId": "3c72304c-1f5b-47c5-d473-861e25c3e3df"
      },
      "outputs": [
        {
          "output_type": "stream",
          "name": "stdout",
          "text": [
            "<class 'pandas.core.frame.DataFrame'>\n",
            "RangeIndex: 303 entries, 0 to 302\n",
            "Data columns (total 14 columns):\n",
            " #   Column    Non-Null Count  Dtype  \n",
            "---  ------    --------------  -----  \n",
            " 0   age       303 non-null    int64  \n",
            " 1   sex       303 non-null    int64  \n",
            " 2   cp        303 non-null    int64  \n",
            " 3   trestbps  303 non-null    int64  \n",
            " 4   chol      303 non-null    int64  \n",
            " 5   fbs       303 non-null    int64  \n",
            " 6   restecg   303 non-null    int64  \n",
            " 7   thalach   303 non-null    int64  \n",
            " 8   exang     303 non-null    int64  \n",
            " 9   oldpeak   303 non-null    float64\n",
            " 10  slope     303 non-null    int64  \n",
            " 11  ca        303 non-null    int64  \n",
            " 12  thal      303 non-null    int64  \n",
            " 13  target    303 non-null    int64  \n",
            "dtypes: float64(1), int64(13)\n",
            "memory usage: 33.3 KB\n"
          ]
        }
      ],
      "source": [
        "df.info()"
      ]
    },
    {
      "cell_type": "code",
      "source": [
        "# checking null values"
      ],
      "metadata": {
        "id": "xp-JHoWhr8Nj"
      },
      "id": "xp-JHoWhr8Nj",
      "execution_count": 6,
      "outputs": []
    },
    {
      "cell_type": "code",
      "execution_count": 5,
      "id": "697d36ae",
      "metadata": {
        "colab": {
          "base_uri": "https://localhost:8080/"
        },
        "id": "697d36ae",
        "outputId": "91a3d566-41a6-495e-c95d-f330ee9e1806"
      },
      "outputs": [
        {
          "output_type": "execute_result",
          "data": {
            "text/plain": [
              "age         0\n",
              "sex         0\n",
              "cp          0\n",
              "trestbps    0\n",
              "chol        0\n",
              "fbs         0\n",
              "restecg     0\n",
              "thalach     0\n",
              "exang       0\n",
              "oldpeak     0\n",
              "slope       0\n",
              "ca          0\n",
              "thal        0\n",
              "target      0\n",
              "dtype: int64"
            ]
          },
          "metadata": {},
          "execution_count": 5
        }
      ],
      "source": [
        "df.isna().sum()"
      ]
    },
    {
      "cell_type": "code",
      "execution_count": 6,
      "id": "557c989c",
      "metadata": {
        "colab": {
          "base_uri": "https://localhost:8080/"
        },
        "id": "557c989c",
        "outputId": "169f182f-d96a-4317-b63f-3a852b0d6e17"
      },
      "outputs": [
        {
          "output_type": "execute_result",
          "data": {
            "text/plain": [
              "1    165\n",
              "0    138\n",
              "Name: target, dtype: int64"
            ]
          },
          "metadata": {},
          "execution_count": 6
        }
      ],
      "source": [
        "df.target.value_counts()"
      ]
    },
    {
      "cell_type": "code",
      "source": [
        "df.shape"
      ],
      "metadata": {
        "colab": {
          "base_uri": "https://localhost:8080/"
        },
        "id": "fgywLrZmIX0V",
        "outputId": "70341e64-c284-43a8-ef34-57b4eb20f050"
      },
      "id": "fgywLrZmIX0V",
      "execution_count": 7,
      "outputs": [
        {
          "output_type": "execute_result",
          "data": {
            "text/plain": [
              "(303, 14)"
            ]
          },
          "metadata": {},
          "execution_count": 7
        }
      ]
    },
    {
      "cell_type": "code",
      "source": [
        "#2. Spliting the dataset"
      ],
      "metadata": {
        "id": "psr9ssX4sF3b"
      },
      "id": "psr9ssX4sF3b",
      "execution_count": 10,
      "outputs": []
    },
    {
      "cell_type": "code",
      "execution_count": 8,
      "id": "17da5598",
      "metadata": {
        "id": "17da5598"
      },
      "outputs": [],
      "source": [
        "X = df.drop('target', axis = 1)"
      ]
    },
    {
      "cell_type": "code",
      "execution_count": 9,
      "id": "be6d78c5",
      "metadata": {
        "id": "be6d78c5"
      },
      "outputs": [],
      "source": [
        "y = df['target']"
      ]
    },
    {
      "cell_type": "code",
      "source": [
        "X_train, X_test, y_train, y_test = tts(X, y, test_size = 0.20, random_state=42)"
      ],
      "metadata": {
        "id": "9RCU324JqKLT"
      },
      "id": "9RCU324JqKLT",
      "execution_count": 10,
      "outputs": []
    },
    {
      "cell_type": "code",
      "source": [
        "X_train.shape"
      ],
      "metadata": {
        "colab": {
          "base_uri": "https://localhost:8080/"
        },
        "id": "QQNna8Htq2NQ",
        "outputId": "dca0cd98-c138-474b-bbe6-f0379032adf0"
      },
      "id": "QQNna8Htq2NQ",
      "execution_count": 11,
      "outputs": [
        {
          "output_type": "execute_result",
          "data": {
            "text/plain": [
              "(242, 13)"
            ]
          },
          "metadata": {},
          "execution_count": 11
        }
      ]
    },
    {
      "cell_type": "code",
      "source": [
        "X_test.shape"
      ],
      "metadata": {
        "colab": {
          "base_uri": "https://localhost:8080/"
        },
        "id": "A6eq1414q6Vr",
        "outputId": "6519cc0b-3dd4-4557-8513-d352192f3e4f"
      },
      "id": "A6eq1414q6Vr",
      "execution_count": 12,
      "outputs": [
        {
          "output_type": "execute_result",
          "data": {
            "text/plain": [
              "(61, 13)"
            ]
          },
          "metadata": {},
          "execution_count": 12
        }
      ]
    },
    {
      "cell_type": "code",
      "source": [
        "y_train.shape, y_test.shape"
      ],
      "metadata": {
        "colab": {
          "base_uri": "https://localhost:8080/"
        },
        "id": "2gpM1Nzdq-a7",
        "outputId": "ae49ef5a-6fbb-4b27-ac50-f43aefe36308"
      },
      "id": "2gpM1Nzdq-a7",
      "execution_count": 13,
      "outputs": [
        {
          "output_type": "execute_result",
          "data": {
            "text/plain": [
              "((242,), (61,))"
            ]
          },
          "metadata": {},
          "execution_count": 13
        }
      ]
    },
    {
      "cell_type": "code",
      "source": [
        "# Create a neural network"
      ],
      "metadata": {
        "id": "pDAr3kqhrKRL"
      },
      "id": "pDAr3kqhrKRL",
      "execution_count": 17,
      "outputs": []
    },
    {
      "cell_type": "code",
      "source": [
        "model = keras.Sequential([\n",
        "    tf.keras.layers.Dense(8, activation='relu', input_dim=13),\n",
        "    tf.keras.layers.Dense(1, activation='sigmoid')\n",
        "                              ])"
      ],
      "metadata": {
        "id": "y0dicFKEtF-y"
      },
      "id": "y0dicFKEtF-y",
      "execution_count": 14,
      "outputs": []
    },
    {
      "cell_type": "code",
      "source": [
        "#compile your model"
      ],
      "metadata": {
        "id": "1nmbkKNstWRZ"
      },
      "id": "1nmbkKNstWRZ",
      "execution_count": 15,
      "outputs": []
    },
    {
      "cell_type": "code",
      "source": [
        "tf.keras.optimizers.Adam(\n",
        "    learning_rate=0.001)"
      ],
      "metadata": {
        "colab": {
          "base_uri": "https://localhost:8080/"
        },
        "id": "V23hZ0CSyVMk",
        "outputId": "a735db61-1ea9-4c6f-e877-790187493769"
      },
      "id": "V23hZ0CSyVMk",
      "execution_count": 16,
      "outputs": [
        {
          "output_type": "execute_result",
          "data": {
            "text/plain": [
              "<keras.src.optimizers.adam.Adam at 0x7812df193ee0>"
            ]
          },
          "metadata": {},
          "execution_count": 16
        }
      ]
    },
    {
      "cell_type": "code",
      "source": [
        "model.compile(optimizer='RMSprop',\n",
        "              loss='binary_crossentropy',\n",
        "              metrics=['accuracy'])"
      ],
      "metadata": {
        "id": "7e_0mvZPvWEV"
      },
      "id": "7e_0mvZPvWEV",
      "execution_count": 17,
      "outputs": []
    },
    {
      "cell_type": "code",
      "source": [
        "# print model summary"
      ],
      "metadata": {
        "id": "axPN9PyewWCe"
      },
      "id": "axPN9PyewWCe",
      "execution_count": null,
      "outputs": []
    },
    {
      "cell_type": "code",
      "source": [
        "model.summary()"
      ],
      "metadata": {
        "colab": {
          "base_uri": "https://localhost:8080/"
        },
        "id": "URYtrwKLwZ_u",
        "outputId": "f43e58a9-f968-4071-fd6a-55c86c3dbae2"
      },
      "id": "URYtrwKLwZ_u",
      "execution_count": 18,
      "outputs": [
        {
          "output_type": "stream",
          "name": "stdout",
          "text": [
            "Model: \"sequential\"\n",
            "_________________________________________________________________\n",
            " Layer (type)                Output Shape              Param #   \n",
            "=================================================================\n",
            " dense (Dense)               (None, 8)                 112       \n",
            "                                                                 \n",
            " dense_1 (Dense)             (None, 1)                 9         \n",
            "                                                                 \n",
            "=================================================================\n",
            "Total params: 121 (484.00 Byte)\n",
            "Trainable params: 121 (484.00 Byte)\n",
            "Non-trainable params: 0 (0.00 Byte)\n",
            "_________________________________________________________________\n"
          ]
        }
      ]
    },
    {
      "cell_type": "code",
      "source": [
        "# Train the model"
      ],
      "metadata": {
        "id": "c1bJrXSBwb32"
      },
      "id": "c1bJrXSBwb32",
      "execution_count": null,
      "outputs": []
    },
    {
      "cell_type": "code",
      "source": [
        "model.fit(X_train, y_train, epochs=200)\n",
        "model.evaluate(X_test, y_test)"
      ],
      "metadata": {
        "colab": {
          "base_uri": "https://localhost:8080/"
        },
        "id": "paoQPmUBwiCW",
        "outputId": "fecbea07-b0a9-44c9-8412-0a826e5368bb"
      },
      "id": "paoQPmUBwiCW",
      "execution_count": 19,
      "outputs": [
        {
          "output_type": "stream",
          "name": "stdout",
          "text": [
            "Epoch 1/200\n",
            "8/8 [==============================] - 5s 5ms/step - loss: 107.7889 - accuracy: 0.4504\n",
            "Epoch 2/200\n",
            "8/8 [==============================] - 0s 4ms/step - loss: 99.8595 - accuracy: 0.4504\n",
            "Epoch 3/200\n",
            "8/8 [==============================] - 0s 4ms/step - loss: 93.4444 - accuracy: 0.4504\n",
            "Epoch 4/200\n",
            "8/8 [==============================] - 0s 4ms/step - loss: 87.7681 - accuracy: 0.4504\n",
            "Epoch 5/200\n",
            "8/8 [==============================] - 0s 4ms/step - loss: 82.2875 - accuracy: 0.4504\n",
            "Epoch 6/200\n",
            "8/8 [==============================] - 0s 4ms/step - loss: 76.8124 - accuracy: 0.4504\n",
            "Epoch 7/200\n",
            "8/8 [==============================] - 0s 4ms/step - loss: 71.3135 - accuracy: 0.4504\n",
            "Epoch 8/200\n",
            "8/8 [==============================] - 0s 4ms/step - loss: 65.9230 - accuracy: 0.4504\n",
            "Epoch 9/200\n",
            "8/8 [==============================] - 0s 4ms/step - loss: 60.5874 - accuracy: 0.4504\n",
            "Epoch 10/200\n",
            "8/8 [==============================] - 0s 6ms/step - loss: 55.2152 - accuracy: 0.4504\n",
            "Epoch 11/200\n",
            "8/8 [==============================] - 0s 4ms/step - loss: 49.9567 - accuracy: 0.4504\n",
            "Epoch 12/200\n",
            "8/8 [==============================] - 0s 4ms/step - loss: 44.7086 - accuracy: 0.4504\n",
            "Epoch 13/200\n",
            "8/8 [==============================] - 0s 4ms/step - loss: 39.2404 - accuracy: 0.4504\n",
            "Epoch 14/200\n",
            "8/8 [==============================] - 0s 4ms/step - loss: 33.8447 - accuracy: 0.4504\n",
            "Epoch 15/200\n",
            "8/8 [==============================] - 0s 4ms/step - loss: 28.3513 - accuracy: 0.4504\n",
            "Epoch 16/200\n",
            "8/8 [==============================] - 0s 4ms/step - loss: 22.8420 - accuracy: 0.4504\n",
            "Epoch 17/200\n",
            "8/8 [==============================] - 0s 4ms/step - loss: 17.0333 - accuracy: 0.4504\n",
            "Epoch 18/200\n",
            "8/8 [==============================] - 0s 4ms/step - loss: 11.0388 - accuracy: 0.4504\n",
            "Epoch 19/200\n",
            "8/8 [==============================] - 0s 4ms/step - loss: 5.3982 - accuracy: 0.4669\n",
            "Epoch 20/200\n",
            "8/8 [==============================] - 0s 5ms/step - loss: 2.8448 - accuracy: 0.5455\n",
            "Epoch 21/200\n",
            "8/8 [==============================] - 0s 4ms/step - loss: 2.4862 - accuracy: 0.5537\n",
            "Epoch 22/200\n",
            "8/8 [==============================] - 0s 4ms/step - loss: 2.4299 - accuracy: 0.5579\n",
            "Epoch 23/200\n",
            "8/8 [==============================] - 0s 4ms/step - loss: 2.3071 - accuracy: 0.5661\n",
            "Epoch 24/200\n",
            "8/8 [==============================] - 0s 4ms/step - loss: 2.2859 - accuracy: 0.5496\n",
            "Epoch 25/200\n",
            "8/8 [==============================] - 0s 4ms/step - loss: 2.1522 - accuracy: 0.5620\n",
            "Epoch 26/200\n",
            "8/8 [==============================] - 0s 4ms/step - loss: 2.0216 - accuracy: 0.5826\n",
            "Epoch 27/200\n",
            "8/8 [==============================] - 0s 4ms/step - loss: 2.0177 - accuracy: 0.5950\n",
            "Epoch 28/200\n",
            "8/8 [==============================] - 0s 4ms/step - loss: 2.0040 - accuracy: 0.5909\n",
            "Epoch 29/200\n",
            "8/8 [==============================] - 0s 4ms/step - loss: 1.7846 - accuracy: 0.5826\n",
            "Epoch 30/200\n",
            "8/8 [==============================] - 0s 4ms/step - loss: 1.7194 - accuracy: 0.6033\n",
            "Epoch 31/200\n",
            "8/8 [==============================] - 0s 4ms/step - loss: 1.6359 - accuracy: 0.5868\n",
            "Epoch 32/200\n",
            "8/8 [==============================] - 0s 3ms/step - loss: 1.5692 - accuracy: 0.5992\n",
            "Epoch 33/200\n",
            "8/8 [==============================] - 0s 4ms/step - loss: 1.5086 - accuracy: 0.5826\n",
            "Epoch 34/200\n",
            "8/8 [==============================] - 0s 3ms/step - loss: 1.3938 - accuracy: 0.5950\n",
            "Epoch 35/200\n",
            "8/8 [==============================] - 0s 3ms/step - loss: 1.3384 - accuracy: 0.6157\n",
            "Epoch 36/200\n",
            "8/8 [==============================] - 0s 4ms/step - loss: 1.2731 - accuracy: 0.6198\n",
            "Epoch 37/200\n",
            "8/8 [==============================] - 0s 3ms/step - loss: 1.3276 - accuracy: 0.5992\n",
            "Epoch 38/200\n",
            "8/8 [==============================] - 0s 3ms/step - loss: 1.1698 - accuracy: 0.6198\n",
            "Epoch 39/200\n",
            "8/8 [==============================] - 0s 4ms/step - loss: 1.0899 - accuracy: 0.6240\n",
            "Epoch 40/200\n",
            "8/8 [==============================] - 0s 3ms/step - loss: 1.0366 - accuracy: 0.6488\n",
            "Epoch 41/200\n",
            "8/8 [==============================] - 0s 4ms/step - loss: 0.9939 - accuracy: 0.6446\n",
            "Epoch 42/200\n",
            "8/8 [==============================] - 0s 4ms/step - loss: 0.9600 - accuracy: 0.6612\n",
            "Epoch 43/200\n",
            "8/8 [==============================] - 0s 4ms/step - loss: 0.9554 - accuracy: 0.6281\n",
            "Epoch 44/200\n",
            "8/8 [==============================] - 0s 4ms/step - loss: 0.9202 - accuracy: 0.6157\n",
            "Epoch 45/200\n",
            "8/8 [==============================] - 0s 3ms/step - loss: 0.8546 - accuracy: 0.6364\n",
            "Epoch 46/200\n",
            "8/8 [==============================] - 0s 4ms/step - loss: 0.8446 - accuracy: 0.6488\n",
            "Epoch 47/200\n",
            "8/8 [==============================] - 0s 5ms/step - loss: 0.7829 - accuracy: 0.6488\n",
            "Epoch 48/200\n",
            "8/8 [==============================] - 0s 4ms/step - loss: 0.8405 - accuracy: 0.6570\n",
            "Epoch 49/200\n",
            "8/8 [==============================] - 0s 4ms/step - loss: 0.7399 - accuracy: 0.6694\n",
            "Epoch 50/200\n",
            "8/8 [==============================] - 0s 4ms/step - loss: 0.7922 - accuracy: 0.6240\n",
            "Epoch 51/200\n",
            "8/8 [==============================] - 0s 4ms/step - loss: 0.7068 - accuracy: 0.6529\n",
            "Epoch 52/200\n",
            "8/8 [==============================] - 0s 4ms/step - loss: 0.7391 - accuracy: 0.6322\n",
            "Epoch 53/200\n",
            "8/8 [==============================] - 0s 4ms/step - loss: 0.7981 - accuracy: 0.6529\n",
            "Epoch 54/200\n",
            "8/8 [==============================] - 0s 3ms/step - loss: 0.6694 - accuracy: 0.6818\n",
            "Epoch 55/200\n",
            "8/8 [==============================] - 0s 4ms/step - loss: 0.6630 - accuracy: 0.6694\n",
            "Epoch 56/200\n",
            "8/8 [==============================] - 0s 3ms/step - loss: 0.6980 - accuracy: 0.6901\n",
            "Epoch 57/200\n",
            "8/8 [==============================] - 0s 4ms/step - loss: 0.7459 - accuracy: 0.6653\n",
            "Epoch 58/200\n",
            "8/8 [==============================] - 0s 4ms/step - loss: 0.6181 - accuracy: 0.6942\n",
            "Epoch 59/200\n",
            "8/8 [==============================] - 0s 4ms/step - loss: 0.6525 - accuracy: 0.6983\n",
            "Epoch 60/200\n",
            "8/8 [==============================] - 0s 4ms/step - loss: 0.7001 - accuracy: 0.6694\n",
            "Epoch 61/200\n",
            "8/8 [==============================] - 0s 4ms/step - loss: 0.6331 - accuracy: 0.7149\n",
            "Epoch 62/200\n",
            "8/8 [==============================] - 0s 3ms/step - loss: 0.6611 - accuracy: 0.6818\n",
            "Epoch 63/200\n",
            "8/8 [==============================] - 0s 4ms/step - loss: 0.6210 - accuracy: 0.7149\n",
            "Epoch 64/200\n",
            "8/8 [==============================] - 0s 4ms/step - loss: 0.6416 - accuracy: 0.7025\n",
            "Epoch 65/200\n",
            "8/8 [==============================] - 0s 4ms/step - loss: 0.6385 - accuracy: 0.7066\n",
            "Epoch 66/200\n",
            "8/8 [==============================] - 0s 4ms/step - loss: 0.6509 - accuracy: 0.6901\n",
            "Epoch 67/200\n",
            "8/8 [==============================] - 0s 4ms/step - loss: 0.6080 - accuracy: 0.6901\n",
            "Epoch 68/200\n",
            "8/8 [==============================] - 0s 4ms/step - loss: 0.6091 - accuracy: 0.7355\n",
            "Epoch 69/200\n",
            "8/8 [==============================] - 0s 4ms/step - loss: 0.6562 - accuracy: 0.7273\n",
            "Epoch 70/200\n",
            "8/8 [==============================] - 0s 3ms/step - loss: 0.6016 - accuracy: 0.6860\n",
            "Epoch 71/200\n",
            "8/8 [==============================] - 0s 4ms/step - loss: 0.5915 - accuracy: 0.7066\n",
            "Epoch 72/200\n",
            "8/8 [==============================] - 0s 4ms/step - loss: 0.6448 - accuracy: 0.6942\n",
            "Epoch 73/200\n",
            "8/8 [==============================] - 0s 4ms/step - loss: 0.5672 - accuracy: 0.7273\n",
            "Epoch 74/200\n",
            "8/8 [==============================] - 0s 4ms/step - loss: 0.5948 - accuracy: 0.7190\n",
            "Epoch 75/200\n",
            "8/8 [==============================] - 0s 4ms/step - loss: 0.5551 - accuracy: 0.7190\n",
            "Epoch 76/200\n",
            "8/8 [==============================] - 0s 3ms/step - loss: 0.5743 - accuracy: 0.7025\n",
            "Epoch 77/200\n",
            "8/8 [==============================] - 0s 3ms/step - loss: 0.6521 - accuracy: 0.6570\n",
            "Epoch 78/200\n",
            "8/8 [==============================] - 0s 3ms/step - loss: 0.6039 - accuracy: 0.7107\n",
            "Epoch 79/200\n",
            "8/8 [==============================] - 0s 3ms/step - loss: 0.5466 - accuracy: 0.7190\n",
            "Epoch 80/200\n",
            "8/8 [==============================] - 0s 5ms/step - loss: 0.5507 - accuracy: 0.7355\n",
            "Epoch 81/200\n",
            "8/8 [==============================] - 0s 4ms/step - loss: 0.5408 - accuracy: 0.7355\n",
            "Epoch 82/200\n",
            "8/8 [==============================] - 0s 4ms/step - loss: 0.5920 - accuracy: 0.7355\n",
            "Epoch 83/200\n",
            "8/8 [==============================] - 0s 4ms/step - loss: 0.5973 - accuracy: 0.7107\n",
            "Epoch 84/200\n",
            "8/8 [==============================] - 0s 4ms/step - loss: 0.5408 - accuracy: 0.7314\n",
            "Epoch 85/200\n",
            "8/8 [==============================] - 0s 4ms/step - loss: 0.5226 - accuracy: 0.7397\n",
            "Epoch 86/200\n",
            "8/8 [==============================] - 0s 4ms/step - loss: 0.5026 - accuracy: 0.7438\n",
            "Epoch 87/200\n",
            "8/8 [==============================] - 0s 4ms/step - loss: 0.5614 - accuracy: 0.7190\n",
            "Epoch 88/200\n",
            "8/8 [==============================] - 0s 4ms/step - loss: 0.5631 - accuracy: 0.7025\n",
            "Epoch 89/200\n",
            "8/8 [==============================] - 0s 4ms/step - loss: 0.5534 - accuracy: 0.7190\n",
            "Epoch 90/200\n",
            "8/8 [==============================] - 0s 4ms/step - loss: 0.5209 - accuracy: 0.7562\n",
            "Epoch 91/200\n",
            "8/8 [==============================] - 0s 4ms/step - loss: 0.5164 - accuracy: 0.7521\n",
            "Epoch 92/200\n",
            "8/8 [==============================] - 0s 4ms/step - loss: 0.5352 - accuracy: 0.7273\n",
            "Epoch 93/200\n",
            "8/8 [==============================] - 0s 4ms/step - loss: 0.6248 - accuracy: 0.7190\n",
            "Epoch 94/200\n",
            "8/8 [==============================] - 0s 4ms/step - loss: 0.5117 - accuracy: 0.7355\n",
            "Epoch 95/200\n",
            "8/8 [==============================] - 0s 4ms/step - loss: 0.4914 - accuracy: 0.7645\n",
            "Epoch 96/200\n",
            "8/8 [==============================] - 0s 4ms/step - loss: 0.4903 - accuracy: 0.7769\n",
            "Epoch 97/200\n",
            "8/8 [==============================] - 0s 4ms/step - loss: 0.5248 - accuracy: 0.7314\n",
            "Epoch 98/200\n",
            "8/8 [==============================] - 0s 4ms/step - loss: 0.5133 - accuracy: 0.7562\n",
            "Epoch 99/200\n",
            "8/8 [==============================] - 0s 4ms/step - loss: 0.4644 - accuracy: 0.7727\n",
            "Epoch 100/200\n",
            "8/8 [==============================] - 0s 5ms/step - loss: 0.5292 - accuracy: 0.7645\n",
            "Epoch 101/200\n",
            "8/8 [==============================] - 0s 5ms/step - loss: 0.5547 - accuracy: 0.7397\n",
            "Epoch 102/200\n",
            "8/8 [==============================] - 0s 4ms/step - loss: 0.4823 - accuracy: 0.7686\n",
            "Epoch 103/200\n",
            "8/8 [==============================] - 0s 4ms/step - loss: 0.4889 - accuracy: 0.7603\n",
            "Epoch 104/200\n",
            "8/8 [==============================] - 0s 4ms/step - loss: 0.5303 - accuracy: 0.7479\n",
            "Epoch 105/200\n",
            "8/8 [==============================] - 0s 4ms/step - loss: 0.5072 - accuracy: 0.7603\n",
            "Epoch 106/200\n",
            "8/8 [==============================] - 0s 4ms/step - loss: 0.5101 - accuracy: 0.7521\n",
            "Epoch 107/200\n",
            "8/8 [==============================] - 0s 4ms/step - loss: 0.4843 - accuracy: 0.7521\n",
            "Epoch 108/200\n",
            "8/8 [==============================] - 0s 4ms/step - loss: 0.4617 - accuracy: 0.8017\n",
            "Epoch 109/200\n",
            "8/8 [==============================] - 0s 4ms/step - loss: 0.4971 - accuracy: 0.7727\n",
            "Epoch 110/200\n",
            "8/8 [==============================] - 0s 4ms/step - loss: 0.4573 - accuracy: 0.7893\n",
            "Epoch 111/200\n",
            "8/8 [==============================] - 0s 4ms/step - loss: 0.4977 - accuracy: 0.7355\n",
            "Epoch 112/200\n",
            "8/8 [==============================] - 0s 4ms/step - loss: 0.5517 - accuracy: 0.7562\n",
            "Epoch 113/200\n",
            "8/8 [==============================] - 0s 4ms/step - loss: 0.4640 - accuracy: 0.7810\n",
            "Epoch 114/200\n",
            "8/8 [==============================] - 0s 4ms/step - loss: 0.4740 - accuracy: 0.7934\n",
            "Epoch 115/200\n",
            "8/8 [==============================] - 0s 4ms/step - loss: 0.4762 - accuracy: 0.7727\n",
            "Epoch 116/200\n",
            "8/8 [==============================] - 0s 3ms/step - loss: 0.5264 - accuracy: 0.7273\n",
            "Epoch 117/200\n",
            "8/8 [==============================] - 0s 4ms/step - loss: 0.4446 - accuracy: 0.7975\n",
            "Epoch 118/200\n",
            "8/8 [==============================] - 0s 5ms/step - loss: 0.5459 - accuracy: 0.7521\n",
            "Epoch 119/200\n",
            "8/8 [==============================] - 0s 4ms/step - loss: 0.4463 - accuracy: 0.7893\n",
            "Epoch 120/200\n",
            "8/8 [==============================] - 0s 4ms/step - loss: 0.4418 - accuracy: 0.7934\n",
            "Epoch 121/200\n",
            "8/8 [==============================] - 0s 3ms/step - loss: 0.5110 - accuracy: 0.7438\n",
            "Epoch 122/200\n",
            "8/8 [==============================] - 0s 3ms/step - loss: 0.5191 - accuracy: 0.7438\n",
            "Epoch 123/200\n",
            "8/8 [==============================] - 0s 4ms/step - loss: 0.4219 - accuracy: 0.7975\n",
            "Epoch 124/200\n",
            "8/8 [==============================] - 0s 4ms/step - loss: 0.4930 - accuracy: 0.7521\n",
            "Epoch 125/200\n",
            "8/8 [==============================] - 0s 4ms/step - loss: 0.4695 - accuracy: 0.7727\n",
            "Epoch 126/200\n",
            "8/8 [==============================] - 0s 5ms/step - loss: 0.4611 - accuracy: 0.8017\n",
            "Epoch 127/200\n",
            "8/8 [==============================] - 0s 4ms/step - loss: 0.4866 - accuracy: 0.7521\n",
            "Epoch 128/200\n",
            "8/8 [==============================] - 0s 4ms/step - loss: 0.4336 - accuracy: 0.7521\n",
            "Epoch 129/200\n",
            "8/8 [==============================] - 0s 4ms/step - loss: 0.4874 - accuracy: 0.7686\n",
            "Epoch 130/200\n",
            "8/8 [==============================] - 0s 4ms/step - loss: 0.4476 - accuracy: 0.7645\n",
            "Epoch 131/200\n",
            "8/8 [==============================] - 0s 4ms/step - loss: 0.4770 - accuracy: 0.7562\n",
            "Epoch 132/200\n",
            "8/8 [==============================] - 0s 4ms/step - loss: 0.4811 - accuracy: 0.7769\n",
            "Epoch 133/200\n",
            "8/8 [==============================] - 0s 4ms/step - loss: 0.4254 - accuracy: 0.8017\n",
            "Epoch 134/200\n",
            "8/8 [==============================] - 0s 3ms/step - loss: 0.4727 - accuracy: 0.7727\n",
            "Epoch 135/200\n",
            "8/8 [==============================] - 0s 4ms/step - loss: 0.4527 - accuracy: 0.7810\n",
            "Epoch 136/200\n",
            "8/8 [==============================] - 0s 4ms/step - loss: 0.4675 - accuracy: 0.7851\n",
            "Epoch 137/200\n",
            "8/8 [==============================] - 0s 3ms/step - loss: 0.4346 - accuracy: 0.8182\n",
            "Epoch 138/200\n",
            "8/8 [==============================] - 0s 4ms/step - loss: 0.4698 - accuracy: 0.7851\n",
            "Epoch 139/200\n",
            "8/8 [==============================] - 0s 6ms/step - loss: 0.4257 - accuracy: 0.8182\n",
            "Epoch 140/200\n",
            "8/8 [==============================] - 0s 4ms/step - loss: 0.5363 - accuracy: 0.7521\n",
            "Epoch 141/200\n",
            "8/8 [==============================] - 0s 4ms/step - loss: 0.4190 - accuracy: 0.8306\n",
            "Epoch 142/200\n",
            "8/8 [==============================] - 0s 3ms/step - loss: 0.4677 - accuracy: 0.7934\n",
            "Epoch 143/200\n",
            "8/8 [==============================] - 0s 4ms/step - loss: 0.4423 - accuracy: 0.7810\n",
            "Epoch 144/200\n",
            "8/8 [==============================] - 0s 4ms/step - loss: 0.4332 - accuracy: 0.8017\n",
            "Epoch 145/200\n",
            "8/8 [==============================] - 0s 4ms/step - loss: 0.4419 - accuracy: 0.8099\n",
            "Epoch 146/200\n",
            "8/8 [==============================] - 0s 3ms/step - loss: 0.4188 - accuracy: 0.8058\n",
            "Epoch 147/200\n",
            "8/8 [==============================] - 0s 4ms/step - loss: 0.4589 - accuracy: 0.7893\n",
            "Epoch 148/200\n",
            "8/8 [==============================] - 0s 4ms/step - loss: 0.4347 - accuracy: 0.8017\n",
            "Epoch 149/200\n",
            "8/8 [==============================] - 0s 4ms/step - loss: 0.4662 - accuracy: 0.7603\n",
            "Epoch 150/200\n",
            "8/8 [==============================] - 0s 4ms/step - loss: 0.4476 - accuracy: 0.7810\n",
            "Epoch 151/200\n",
            "8/8 [==============================] - 0s 4ms/step - loss: 0.4099 - accuracy: 0.8182\n",
            "Epoch 152/200\n",
            "8/8 [==============================] - 0s 3ms/step - loss: 0.4698 - accuracy: 0.7727\n",
            "Epoch 153/200\n",
            "8/8 [==============================] - 0s 4ms/step - loss: 0.4041 - accuracy: 0.8140\n",
            "Epoch 154/200\n",
            "8/8 [==============================] - 0s 5ms/step - loss: 0.4656 - accuracy: 0.7934\n",
            "Epoch 155/200\n",
            "8/8 [==============================] - 0s 4ms/step - loss: 0.4671 - accuracy: 0.7975\n",
            "Epoch 156/200\n",
            "8/8 [==============================] - 0s 4ms/step - loss: 0.4284 - accuracy: 0.7893\n",
            "Epoch 157/200\n",
            "8/8 [==============================] - 0s 5ms/step - loss: 0.4733 - accuracy: 0.7603\n",
            "Epoch 158/200\n",
            "8/8 [==============================] - 0s 4ms/step - loss: 0.4162 - accuracy: 0.7893\n",
            "Epoch 159/200\n",
            "8/8 [==============================] - 0s 4ms/step - loss: 0.4321 - accuracy: 0.7934\n",
            "Epoch 160/200\n",
            "8/8 [==============================] - 0s 4ms/step - loss: 0.4123 - accuracy: 0.8058\n",
            "Epoch 161/200\n",
            "8/8 [==============================] - 0s 4ms/step - loss: 0.4777 - accuracy: 0.7727\n",
            "Epoch 162/200\n",
            "8/8 [==============================] - 0s 4ms/step - loss: 0.4089 - accuracy: 0.8306\n",
            "Epoch 163/200\n",
            "8/8 [==============================] - 0s 4ms/step - loss: 0.4767 - accuracy: 0.7603\n",
            "Epoch 164/200\n",
            "8/8 [==============================] - 0s 4ms/step - loss: 0.4208 - accuracy: 0.7975\n",
            "Epoch 165/200\n",
            "8/8 [==============================] - 0s 4ms/step - loss: 0.4131 - accuracy: 0.8140\n",
            "Epoch 166/200\n",
            "8/8 [==============================] - 0s 4ms/step - loss: 0.4139 - accuracy: 0.8182\n",
            "Epoch 167/200\n",
            "8/8 [==============================] - 0s 4ms/step - loss: 0.4359 - accuracy: 0.8017\n",
            "Epoch 168/200\n",
            "8/8 [==============================] - 0s 4ms/step - loss: 0.4860 - accuracy: 0.7769\n",
            "Epoch 169/200\n",
            "8/8 [==============================] - 0s 5ms/step - loss: 0.4217 - accuracy: 0.7893\n",
            "Epoch 170/200\n",
            "8/8 [==============================] - 0s 4ms/step - loss: 0.4268 - accuracy: 0.7934\n",
            "Epoch 171/200\n",
            "8/8 [==============================] - 0s 4ms/step - loss: 0.4105 - accuracy: 0.8099\n",
            "Epoch 172/200\n",
            "8/8 [==============================] - 0s 4ms/step - loss: 0.4992 - accuracy: 0.7603\n",
            "Epoch 173/200\n",
            "8/8 [==============================] - 0s 4ms/step - loss: 0.4115 - accuracy: 0.8099\n",
            "Epoch 174/200\n",
            "8/8 [==============================] - 0s 4ms/step - loss: 0.4008 - accuracy: 0.8388\n",
            "Epoch 175/200\n",
            "8/8 [==============================] - 0s 3ms/step - loss: 0.4862 - accuracy: 0.7727\n",
            "Epoch 176/200\n",
            "8/8 [==============================] - 0s 5ms/step - loss: 0.4095 - accuracy: 0.8099\n",
            "Epoch 177/200\n",
            "8/8 [==============================] - 0s 4ms/step - loss: 0.4385 - accuracy: 0.8099\n",
            "Epoch 178/200\n",
            "8/8 [==============================] - 0s 4ms/step - loss: 0.4380 - accuracy: 0.7851\n",
            "Epoch 179/200\n",
            "8/8 [==============================] - 0s 4ms/step - loss: 0.4421 - accuracy: 0.7851\n",
            "Epoch 180/200\n",
            "8/8 [==============================] - 0s 4ms/step - loss: 0.3829 - accuracy: 0.8099\n",
            "Epoch 181/200\n",
            "8/8 [==============================] - 0s 5ms/step - loss: 0.4051 - accuracy: 0.8017\n",
            "Epoch 182/200\n",
            "8/8 [==============================] - 0s 4ms/step - loss: 0.4824 - accuracy: 0.7645\n",
            "Epoch 183/200\n",
            "8/8 [==============================] - 0s 4ms/step - loss: 0.3997 - accuracy: 0.8140\n",
            "Epoch 184/200\n",
            "8/8 [==============================] - 0s 4ms/step - loss: 0.4038 - accuracy: 0.8140\n",
            "Epoch 185/200\n",
            "8/8 [==============================] - 0s 3ms/step - loss: 0.4233 - accuracy: 0.8058\n",
            "Epoch 186/200\n",
            "8/8 [==============================] - 0s 3ms/step - loss: 0.4001 - accuracy: 0.8347\n",
            "Epoch 187/200\n",
            "8/8 [==============================] - 0s 4ms/step - loss: 0.4574 - accuracy: 0.7893\n",
            "Epoch 188/200\n",
            "8/8 [==============================] - 0s 4ms/step - loss: 0.4124 - accuracy: 0.8058\n",
            "Epoch 189/200\n",
            "8/8 [==============================] - 0s 4ms/step - loss: 0.4320 - accuracy: 0.8223\n",
            "Epoch 190/200\n",
            "8/8 [==============================] - 0s 4ms/step - loss: 0.4825 - accuracy: 0.7727\n",
            "Epoch 191/200\n",
            "8/8 [==============================] - 0s 4ms/step - loss: 0.4219 - accuracy: 0.7975\n",
            "Epoch 192/200\n",
            "8/8 [==============================] - 0s 5ms/step - loss: 0.4152 - accuracy: 0.8099\n",
            "Epoch 193/200\n",
            "8/8 [==============================] - 0s 4ms/step - loss: 0.4177 - accuracy: 0.8017\n",
            "Epoch 194/200\n",
            "8/8 [==============================] - 0s 4ms/step - loss: 0.4000 - accuracy: 0.8223\n",
            "Epoch 195/200\n",
            "8/8 [==============================] - 0s 4ms/step - loss: 0.4284 - accuracy: 0.7934\n",
            "Epoch 196/200\n",
            "8/8 [==============================] - 0s 4ms/step - loss: 0.4410 - accuracy: 0.7975\n",
            "Epoch 197/200\n",
            "8/8 [==============================] - 0s 4ms/step - loss: 0.4527 - accuracy: 0.7975\n",
            "Epoch 198/200\n",
            "8/8 [==============================] - 0s 4ms/step - loss: 0.3958 - accuracy: 0.8099\n",
            "Epoch 199/200\n",
            "8/8 [==============================] - 0s 4ms/step - loss: 0.4843 - accuracy: 0.7397\n",
            "Epoch 200/200\n",
            "8/8 [==============================] - 0s 4ms/step - loss: 0.4195 - accuracy: 0.8099\n",
            "2/2 [==============================] - 0s 11ms/step - loss: 0.3908 - accuracy: 0.8689\n"
          ]
        },
        {
          "output_type": "execute_result",
          "data": {
            "text/plain": [
              "[0.3908343017101288, 0.868852436542511]"
            ]
          },
          "metadata": {},
          "execution_count": 19
        }
      ]
    },
    {
      "cell_type": "code",
      "source": [],
      "metadata": {
        "id": "ioh2IIvcwlfm"
      },
      "id": "ioh2IIvcwlfm",
      "execution_count": null,
      "outputs": []
    }
  ],
  "metadata": {
    "kernelspec": {
      "display_name": "Python 3",
      "name": "python3"
    },
    "language_info": {
      "codemirror_mode": {
        "name": "ipython",
        "version": 3
      },
      "file_extension": ".py",
      "mimetype": "text/x-python",
      "name": "python",
      "nbconvert_exporter": "python",
      "pygments_lexer": "ipython3",
      "version": "3.10.12"
    },
    "colab": {
      "provenance": [],
      "gpuType": "T4"
    },
    "accelerator": "GPU"
  },
  "nbformat": 4,
  "nbformat_minor": 5
}